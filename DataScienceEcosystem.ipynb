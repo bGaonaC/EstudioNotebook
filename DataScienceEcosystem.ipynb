{
 "cells": [
  {
   "cell_type": "markdown",
   "id": "1d996c71-c687-440c-9e8c-db95d935924d",
   "metadata": {},
   "source": [
    "# Data Science Tools and Ecosystem"
   ]
  },
  {
   "cell_type": "markdown",
   "id": "b96bc19e-cc80-4503-b5fe-04b0f4cb9a09",
   "metadata": {},
   "source": [
    "In this notebook, Data Science Tools and Ecosystem are summarized."
   ]
  },
  {
   "cell_type": "markdown",
   "id": "115dc8dc-5b72-4228-ab5c-f14bc6927283",
   "metadata": {},
   "source": [
    "Objectives:\n",
    "* Describe some popular languages for Data Science\n",
    "* Describe popular libraries for Data Science\n",
    "* Use lists in Jupyter notebooks\n",
    "* write arithmetic operations in python\n"
   ]
  },
  {
   "cell_type": "markdown",
   "id": "566c946f-ff23-4ceb-a3c9-8e2268774f97",
   "metadata": {},
   "source": [
    "Some of the popular languages that Data Scientists use are:\n",
    "1. Python\n",
    "2. R\n",
    "3. SQL"
   ]
  },
  {
   "cell_type": "markdown",
   "id": "3bceec84-5c0d-4ee9-8c62-d576e8a14351",
   "metadata": {},
   "source": [
    "Some of the commonly used libraries used by Data Scientists include:\n",
    "1. Numpy\n",
    "2. Plotly\n",
    "3. Pandas\n",
    "4. Matplotlib\n",
    "5. ggplot"
   ]
  },
  {
   "cell_type": "markdown",
   "id": "dc3f3264-6391-4adb-be31-82c98dd395a1",
   "metadata": {},
   "source": [
    "|Data Science Tools|\n",
    "|------|\n",
    "|Jupyter|\n",
    "|Rstudio|\n",
    "|Python|"
   ]
  },
  {
   "cell_type": "markdown",
   "id": "d161ccc1-fcca-4bc5-ba49-2ee49aa87e7a",
   "metadata": {},
   "source": [
    "### Below are a few examples of evaluating arithmetic expressions in Python:\n"
   ]
  },
  {
   "cell_type": "code",
   "execution_count": 2,
   "id": "82955cdd-1e2e-40d6-b9dd-3afd6cb76779",
   "metadata": {},
   "outputs": [
    {
     "data": {
      "text/plain": [
       "17"
      ]
     },
     "execution_count": 2,
     "metadata": {},
     "output_type": "execute_result"
    }
   ],
   "source": [
    "# This a simple arithmetic expression to mutiply then add integers\n",
    "(3*4)+5"
   ]
  },
  {
   "cell_type": "code",
   "execution_count": 9,
   "id": "a6fdcec4-55cc-4e0b-8ec0-9fb665f6d7c4",
   "metadata": {},
   "outputs": [
    {
     "name": "stdout",
     "output_type": "stream",
     "text": [
      "3.3333333333333335 Hours\n",
      "or\n",
      "3 Hours 20 minutes\n"
     ]
    }
   ],
   "source": [
    "# This will convert 200 minutes to hours by diving by 60\n",
    "minutes = 200\n",
    "print(200/60,'Hours')\n",
    "print('or')\n",
    "print(round(200/60),'Hours',200%60,'minutes')"
   ]
  },
  {
   "cell_type": "markdown",
   "id": "00cb7cbe-5cbc-4bb5-869a-a6dbf37a6d33",
   "metadata": {},
   "source": [
    "## Author\n",
    "Brayan Gaona"
   ]
  }
 ],
 "metadata": {
  "kernelspec": {
   "display_name": "Python 3 (ipykernel)",
   "language": "python",
   "name": "python3"
  },
  "language_info": {
   "codemirror_mode": {
    "name": "ipython",
    "version": 3
   },
   "file_extension": ".py",
   "mimetype": "text/x-python",
   "name": "python",
   "nbconvert_exporter": "python",
   "pygments_lexer": "ipython3",
   "version": "3.12.4"
  }
 },
 "nbformat": 4,
 "nbformat_minor": 5
}
